{
 "cells": [
  {
   "cell_type": "code",
   "execution_count": null,
   "metadata": {},
   "outputs": [],
   "source": [
    "import os\n",
    "import random\n",
    "#import telegram_send\n",
    "import numpy as np \n",
    "import pandas as pa\n",
    "import tensorflow as tf\n",
    "from tensorflow import keras\n",
    "from tensorflow.keras.preprocessing.image import ImageDataGenerator \n",
    "from mtcnn.mtcnn import MTCNN\n",
    "import cv2\n",
    "from tensorflow import image"
   ]
  },
  {
   "cell_type": "code",
   "execution_count": null,
   "metadata": {},
   "outputs": [],
   "source": [
    "TrainingDir ='C:/Users/abhir/pgms/TensorFlow/Rep0/Images/Train/'\n",
    "TestingDir = 'C:/Users/abhir/pgms/TensorFlow/Rep0/Images/Test/'\n",
    "ValDir = 'C:/Users/abhir/pgms/TensorFlow/Rep0/Images/Validation/'\n",
    "\n",
    "# gen = ImageDataGenerator(rescale=1./255)\n",
    "# TestGen=gen.flow_from_directory(TestingDir,batch_size=1,target_size=(224,224),color_mode='rgb',class_mode='binary')\n",
    "genVal = ImageDataGenerator(rescale=1./255)\n",
    "ValGen=genVal.flow_from_directory(ValDir,batch_size=1,target_size=(224,224),color_mode='rgb',class_mode='binary')\n",
    "traingenerator = ImageDataGenerator(rescale=1./255)\n",
    "Gendata = traingenerator.flow_from_directory(directory=TrainingDir,batch_size=32,target_size=(224,224),color_mode='rgb',class_mode='binary')\n"
   ]
  },
  {
   "cell_type": "code",
   "execution_count": null,
   "metadata": {},
   "outputs": [],
   "source": [
    "Classifier = keras.models.load_model('C:/Users/abhir/pgms/TensorFlow/Rep1')\n",
    "Classifier.summary()"
   ]
  },
  {
   "cell_type": "code",
   "execution_count": null,
   "metadata": {},
   "outputs": [],
   "source": [
    "#Classifier.compile(loss='binary_crossentropy',optimizer='adam',metrics=['acc'])"
   ]
  },
  {
   "cell_type": "code",
   "execution_count": null,
   "metadata": {},
   "outputs": [],
   "source": [
    "#Classifier = keras.models.load_model('C:/Users/abhir/pgms/TensorFlow/Rep1')\n",
    "History = Classifier.fit(Gendata,validation_data = ValGen,epochs=5)"
   ]
  },
  {
   "cell_type": "code",
   "execution_count": null,
   "metadata": {},
   "outputs": [],
   "source": [
    "Classifier.evaluate(ValGen\n",
    ")"
   ]
  },
  {
   "cell_type": "code",
   "execution_count": null,
   "metadata": {},
   "outputs": [],
   "source": [
    "image = cv2.imread()"
   ]
  },
  {
   "cell_type": "code",
   "execution_count": null,
   "metadata": {},
   "outputs": [],
   "source": [
    "import matplotlib.pyplot as plt\n",
    "import imutils\n",
    "from imutils.video import VideoStream\n",
    "#model = keras.models.load_model('C:/Users/abhir/pgms/TensorFlow/Rep1')\n",
    "# img = tf.keras.preprocessing.image.load_img('C:/Users/abhir/OneDrive/Pictures/Camera Roll/ppp.jpg',target_size=(224,224),color_mode='rgb',grayscale=False)\n",
    "video = cv2.VideoStream(0)\n",
    "Face_detect = MTCNN()\n",
    "imageList = []\n",
    "probs = []\n",
    "n = 0\n",
    "while True :\n",
    "    flag,frame = video.read()\n",
    "    #frame = imutils.resize(frame, width=750, height=750)\n",
    "    #frame = cv2.flip(frame, 1)\n",
    "    frame = cv2.cvtColor(frame, cv2.COLOR_BGR2RGB)\n",
    "    # if cv2.waitKey(2) & 0xFF == ord('q'):\n",
    "    #     break\n",
    "    #frame = cv2.resize(frame,(224,224))\n",
    "    if n == 10 :\n",
    "        break\n",
    "    n += 1\n",
    "    vectors = Face_detect.detect_faces(frame)\n",
    "    #Wprint(vectors)\n",
    "    for vector in vectors :\n",
    "        x,y,width,height = vector['box']\n",
    "        image = frame[y:y + height,x:x + width]\n",
    "        imageList.append(frame)\n",
    "        #exit()\n",
    "        image = cv2.resize(image,(224,224))\n",
    "        #imageList.append(image)\n",
    "        \n",
    "        #cv2.imshow('Frame',image)\n",
    "        #image = img_to_array(image)\n",
    "        image = np.array([image])\n",
    "       \n",
    "        #print(image.shape)\n",
    "        image = image/255\n",
    "        #print(image.shape)\n",
    "        prob  = Classifier.predict([image]) \n",
    "        probs.append(prob)\n",
    "# plt.imshow(img)\n",
    "for i in imageList:\n",
    "    plt.imshow(i)\n",
    "print(probs)\n",
    "\n",
    "# img =  tf.keras.preprocessing.image.img_to_array(img)\n",
    "# img=np.array([img])\n",
    "\n",
    "\n",
    "#img=np.array(img,dtype=float)\n",
    "# print(img)\n",
    "# img = img/255\n",
    "# print(img)\n",
    "\n",
    "# array = Classifier.predict([img])\n",
    "# print(array)"
   ]
  },
  {
   "cell_type": "code",
   "execution_count": null,
   "metadata": {},
   "outputs": [],
   "source": [
    "Classifier.save('C:/Users/abhir/pgms/TensorFlow/Rep1/')"
   ]
  }
 ],
 "metadata": {
  "kernelspec": {
   "name": "python3",
   "display_name": "Python 3",
   "language": "python"
  },
  "language_info": {
   "codemirror_mode": {
    "name": "ipython",
    "version": 3
   },
   "file_extension": ".py",
   "mimetype": "text/x-python",
   "name": "python",
   "nbconvert_exporter": "python",
   "pygments_lexer": "ipython3",
   "version": "3.8.5-final"
  }
 },
 "nbformat": 4,
 "nbformat_minor": 2
}